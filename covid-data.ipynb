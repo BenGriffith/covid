{
 "cells": [
  {
   "cell_type": "code",
   "execution_count": 52,
   "metadata": {},
   "outputs": [],
   "source": [
    "import requests\n",
    "import os\n",
    "from bs4 import BeautifulSoup\n",
    "from pyspark.sql import SparkSession"
   ]
  },
  {
   "cell_type": "code",
   "execution_count": 45,
   "metadata": {},
   "outputs": [],
   "source": [
    "os.makedirs('data/county')"
   ]
  },
  {
   "cell_type": "code",
   "execution_count": 61,
   "metadata": {},
   "outputs": [],
   "source": [
    "def create_file(response, name, ext, mode):\n",
    "    \n",
    "    county_path = 'data/county/'\n",
    "    \n",
    "    file = open('{}{}.{}'.format(county_path, name, ext), mode)\n",
    "    file.write(response)\n",
    "    file.close()"
   ]
  },
  {
   "cell_type": "code",
   "execution_count": 62,
   "metadata": {},
   "outputs": [],
   "source": [
    "url_ca = 'https://data.chhs.ca.gov/dataset/f333528b-4d38-4814-bebb-12db1f10f535/resource/046cdd2b-31e5-4d34-9ed3-b48cdbc4be7a/download/covid19cases_test.csv'\n",
    "response_ca = requests.get(url_ca)\n",
    "\n",
    "create_file(response_ca.text, 'california', 'csv', 'x')"
   ]
  },
  {
   "cell_type": "code",
   "execution_count": 63,
   "metadata": {},
   "outputs": [],
   "source": [
    "url_tx = 'https://dshs.texas.gov/coronavirus/TexasCOVID19DailyCountyCaseCountData.xlsx'\n",
    "response_tx = requests.get(url_tx)\n",
    "\n",
    "create_file(response_tx.content, 'texas', 'xlsx', 'wb')"
   ]
  },
  {
   "cell_type": "code",
   "execution_count": 64,
   "metadata": {},
   "outputs": [],
   "source": [
    "# Needs work to get all data -> only providing some of the entire dataset\n",
    "url_fl = 'https://services1.arcgis.com/CY1LXxl9zlJeBuRZ/arcgis/rest/services/Florida_COVID19_Case_Line_Data_NEW/FeatureServer/0/query?where=1%3D1&outFields=*&outSR=4326&f=json'\n",
    "response_fl = requests.get(url_fl)\n",
    "\n",
    "create_file(response_fl.text, 'florida', 'json', 'x')"
   ]
  },
  {
   "cell_type": "code",
   "execution_count": 65,
   "metadata": {},
   "outputs": [],
   "source": [
    "# Needs work to get all data -> only providing some of the entire dataset\n",
    "url_ny = 'https://health.data.ny.gov/resource/xdss-u53e.json'\n",
    "response_ny = requests.get(url_ny)\n",
    "\n",
    "create_file(response_ny.text, 'new_york', 'json', 'x')"
   ]
  },
  {
   "cell_type": "code",
   "execution_count": 66,
   "metadata": {},
   "outputs": [],
   "source": [
    "# Needs work to get all data -> only providing some of the entire dataset\n",
    "url_pa = 'https://data.pa.gov/resource/j72v-r42c.json'\n",
    "response_pa = requests.get(url_pa)\n",
    "\n",
    "create_file(response_pa.text, 'pennsylvania', 'json', 'x')"
   ]
  },
  {
   "cell_type": "code",
   "execution_count": 2,
   "metadata": {},
   "outputs": [],
   "source": [
    "url_counties_il = 'https://en.wikipedia.org/wiki/List_of_counties_in_Illinois'\n",
    "response_url_counties_il = requests.get(url_counties_il)\n",
    "soup = BeautifulSoup(response_url_counties_il.text, 'html.parser')"
   ]
  },
  {
   "cell_type": "code",
   "execution_count": 5,
   "metadata": {},
   "outputs": [],
   "source": [
    "counties_il = []\n",
    "for county in soup.select('tbody > tr > th > a'):\n",
    "    counties_il.append(county.get_text())"
   ]
  },
  {
   "cell_type": "code",
   "execution_count": 16,
   "metadata": {},
   "outputs": [],
   "source": [
    "counties_il = [county.split(' ')[0] for county in counties_il]"
   ]
  },
  {
   "cell_type": "code",
   "execution_count": 27,
   "metadata": {},
   "outputs": [],
   "source": [
    "for county in counties_il:\n",
    "    url_il = 'https://idph.illinois.gov/DPHPublicInformation/api/COVID/GetCountyHistorical?countyName={}'.format(county)\n",
    "    response_il = requests.get(url_il)\n",
    "    file = open('{}.json'.format(county.lower()), 'x')\n",
    "    file.write(response_il.text)\n",
    "    file.close()"
   ]
  },
  {
   "cell_type": "code",
   "execution_count": 67,
   "metadata": {},
   "outputs": [],
   "source": [
    "url_oh = 'https://coronavirus.ohio.gov/static/dashboards/COVIDDeathData_CountyOfResidence.csv'\n",
    "response_oh = requests.get(url_oh)\n",
    "\n",
    "create_file(response_oh.text, 'ohio', 'json', 'x')"
   ]
  },
  {
   "cell_type": "code",
   "execution_count": 70,
   "metadata": {},
   "outputs": [],
   "source": [
    "url_ga = 'https://opendata.arcgis.com/datasets/d817e06e4b264905a075b9332cd41962_0.geojson'\n",
    "response_ga = requests.get(url_ga)\n",
    "\n",
    "create_file(response_ga.text, 'georgia', 'json', 'x')"
   ]
  },
  {
   "cell_type": "code",
   "execution_count": 71,
   "metadata": {},
   "outputs": [],
   "source": [
    "url_usafacts_cases = 'https://static.usafacts.org/public/data/covid-19/covid_confirmed_usafacts.csv?_ga=2.249922758.1108579064.1615472677-188720245.1615472677'\n",
    "response_cases = requests.get(url_usafacts_cases)\n",
    "\n",
    "create_file(response_cases.text, 'cases', 'csv', 'x')"
   ]
  },
  {
   "cell_type": "code",
   "execution_count": 72,
   "metadata": {},
   "outputs": [],
   "source": [
    "url_usafacts_deaths = 'https://static.usafacts.org/public/data/covid-19/covid_deaths_usafacts.csv?_ga=2.247303236.1108579064.1615472677-188720245.1615472677'\n",
    "response_deaths = requests.get(url_usafacts_deaths)\n",
    "\n",
    "create_file(response_deaths.text, 'deaths', 'csv', 'x')"
   ]
  },
  {
   "cell_type": "code",
   "execution_count": 73,
   "metadata": {},
   "outputs": [],
   "source": [
    "url_usafacts_population = 'https://static.usafacts.org/public/data/covid-19/covid_county_population_usafacts.csv?_ga=2.246842820.1108579064.1615472677-188720245.1615472677'\n",
    "response_population = requests.get(url_usafacts_population)\n",
    "\n",
    "create_file(response_population.text, 'population', 'csv', 'x')"
   ]
  }
 ],
 "metadata": {
  "kernelspec": {
   "display_name": "Python 3",
   "language": "python",
   "name": "python3"
  },
  "language_info": {
   "codemirror_mode": {
    "name": "ipython",
    "version": 3
   },
   "file_extension": ".py",
   "mimetype": "text/x-python",
   "name": "python",
   "nbconvert_exporter": "python",
   "pygments_lexer": "ipython3",
   "version": "3.8.3"
  }
 },
 "nbformat": 4,
 "nbformat_minor": 4
}

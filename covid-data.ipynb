{
 "cells": [
  {
   "cell_type": "code",
   "execution_count": 24,
   "metadata": {},
   "outputs": [],
   "source": [
    "import requests\n",
    "from bs4 import BeautifulSoup"
   ]
  },
  {
   "cell_type": "code",
   "execution_count": 17,
   "metadata": {},
   "outputs": [],
   "source": [
    "url_ca = 'https://data.ca.gov/dataset/590188d5-8545-4c93-a9a0-e230f0db7290/resource/926fd08f-cc91-4828-af38-bd45de97f8c3/download/statewide_cases.csv'\n",
    "response_ca = requests.get(url_ca)"
   ]
  },
  {
   "cell_type": "code",
   "execution_count": 18,
   "metadata": {},
   "outputs": [],
   "source": [
    "url_tx = 'https://dshs.texas.gov/coronavirus/TexasCOVID19DailyCountyCaseCountData.xlsx'\n"
   ]
  },
  {
   "cell_type": "code",
   "execution_count": 22,
   "metadata": {},
   "outputs": [],
   "source": [
    "url_fl = 'https://services1.arcgis.com/CY1LXxl9zlJeBuRZ/arcgis/rest/services/Florida_COVID19_Case_Line_Data_NEW/FeatureServer/0/query?outFields=*&where=1%3D1'\n",
    "response_fl = requests.get(url_fl)"
   ]
  },
  {
   "cell_type": "code",
   "execution_count": 25,
   "metadata": {},
   "outputs": [],
   "source": [
    "url_ny = 'https://health.data.ny.gov/resource/xdss-u53e.json'\n",
    "response_ny = requests.get(url_ny)"
   ]
  },
  {
   "cell_type": "code",
   "execution_count": null,
   "metadata": {},
   "outputs": [],
   "source": [
    "url_pa = 'https://data.pa.gov/resource/j72v-r42c.json'\n",
    "response_pa = requests.get(url_pa)"
   ]
  },
  {
   "cell_type": "code",
   "execution_count": 2,
   "metadata": {},
   "outputs": [],
   "source": [
    "url_counties_il = 'https://en.wikipedia.org/wiki/List_of_counties_in_Illinois'\n",
    "response_url_counties_il = requests.get(url_counties_il)\n",
    "soup = BeautifulSoup(response_url_counties_il.text, 'html.parser')"
   ]
  },
  {
   "cell_type": "code",
   "execution_count": 5,
   "metadata": {},
   "outputs": [],
   "source": [
    "counties_il = []\n",
    "for county in soup.select('tbody > tr > th > a'):\n",
    "    counties_il.append(county.get_text())"
   ]
  },
  {
   "cell_type": "code",
   "execution_count": 16,
   "metadata": {},
   "outputs": [],
   "source": [
    "counties_il = [county.split(' ')[0] for county in counties_il]"
   ]
  },
  {
   "cell_type": "code",
   "execution_count": 27,
   "metadata": {},
   "outputs": [],
   "source": [
    "for county in counties_il:\n",
    "    url_il = 'https://idph.illinois.gov/DPHPublicInformation/api/COVID/GetCountyHistorical?countyName={}'.format(county)\n",
    "    response_il = requests.get(url_il)\n",
    "    file = open('{}.json'.format(county.lower()), 'x')\n",
    "    file.write(response_il.text)\n",
    "    file.close()"
   ]
  },
  {
   "cell_type": "code",
   "execution_count": 27,
   "metadata": {},
   "outputs": [],
   "source": [
    "url_oh = 'https://coronavirus.ohio.gov/static/dashboards/COVIDDeathData_CountyOfResidence.csv'\n",
    "response_oh = requests.get(url_oh)"
   ]
  },
  {
   "cell_type": "code",
   "execution_count": 29,
   "metadata": {},
   "outputs": [],
   "source": [
    "url_ga = 'https://opendata.arcgis.com/datasets/d817e06e4b264905a075b9332cd41962_0.geojson'\n",
    "response_ga = requests.get(url_ga)"
   ]
  },
  {
   "cell_type": "code",
   "execution_count": 29,
   "metadata": {},
   "outputs": [],
   "source": [
    "url_usafacts_cases = 'https://static.usafacts.org/public/data/covid-19/covid_confirmed_usafacts.csv?_ga=2.249922758.1108579064.1615472677-188720245.1615472677'\n",
    "response_cases = requests.get(url_usafacts_cases)"
   ]
  },
  {
   "cell_type": "code",
   "execution_count": 32,
   "metadata": {},
   "outputs": [],
   "source": [
    "url_usafacts_deaths = 'https://static.usafacts.org/public/data/covid-19/covid_deaths_usafacts.csv?_ga=2.247303236.1108579064.1615472677-188720245.1615472677'\n",
    "response_deaths = requests.get(url_usafacts_deaths)"
   ]
  },
  {
   "cell_type": "code",
   "execution_count": null,
   "metadata": {},
   "outputs": [],
   "source": [
    "url_usafacts_population = 'https://static.usafacts.org/public/data/covid-19/covid_county_population_usafacts.csv?_ga=2.246842820.1108579064.1615472677-188720245.1615472677'\n",
    "response_population = requests.get(url_usafacts_population)"
   ]
  }
 ],
 "metadata": {
  "kernelspec": {
   "display_name": "Python 3",
   "language": "python",
   "name": "python3"
  },
  "language_info": {
   "codemirror_mode": {
    "name": "ipython",
    "version": 3
   },
   "file_extension": ".py",
   "mimetype": "text/x-python",
   "name": "python",
   "nbconvert_exporter": "python",
   "pygments_lexer": "ipython3",
   "version": "3.8.3"
  }
 },
 "nbformat": 4,
 "nbformat_minor": 4
}

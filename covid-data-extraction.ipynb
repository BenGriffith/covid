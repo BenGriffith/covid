{
 "cells": [
  {
   "cell_type": "code",
   "execution_count": 227,
   "metadata": {},
   "outputs": [],
   "source": [
    "import requests\n",
    "import os\n",
    "import time\n",
    "import json\n",
    "from bs4 import BeautifulSoup\n",
    "from pyspark.sql import SparkSession"
   ]
  },
  {
   "cell_type": "code",
   "execution_count": 57,
   "metadata": {},
   "outputs": [],
   "source": [
    "os.makedirs('data/county')"
   ]
  },
  {
   "cell_type": "code",
   "execution_count": 250,
   "metadata": {},
   "outputs": [],
   "source": [
    "def create_file(response, name, ext, mode):\n",
    "    \n",
    "    county_path = 'data/county/'\n",
    "    \n",
    "    file = open('{}{}.{}'.format(county_path, name, ext), mode)\n",
    "    file.write(response)\n",
    "    file.close()"
   ]
  },
  {
   "cell_type": "code",
   "execution_count": 261,
   "metadata": {},
   "outputs": [],
   "source": [
    "url_ca = 'https://data.chhs.ca.gov/dataset/f333528b-4d38-4814-bebb-12db1f10f535/resource/046cdd2b-31e5-4d34-9ed3-b48cdbc4be7a/download/covid19cases_test.csv'\n",
    "response_ca = requests.get(url_ca)\n",
    "\n",
    "create_file(response_ca.text, 'california', 'csv', 'x')"
   ]
  },
  {
   "cell_type": "code",
   "execution_count": 262,
   "metadata": {},
   "outputs": [],
   "source": [
    "url_tx = 'https://dshs.texas.gov/coronavirus/TexasCOVID19DailyCountyCaseCountData.xlsx'\n",
    "response_tx = requests.get(url_tx)\n",
    "\n",
    "create_file(response_tx.content, 'texas', 'xlsx', 'wb')"
   ]
  },
  {
   "cell_type": "code",
   "execution_count": 267,
   "metadata": {},
   "outputs": [],
   "source": [
    "offset = 0\n",
    "limit = 2000"
   ]
  },
  {
   "cell_type": "code",
   "execution_count": 264,
   "metadata": {},
   "outputs": [],
   "source": [
    "for i in range(5): #while True:\n",
    "\n",
    "    url_fl = 'https://services1.arcgis.com/CY1LXxl9zlJeBuRZ/arcgis/rest/services/Florida_COVID19_Case_Line_Data_NEW/FeatureServer/0/query?where=1%3D1&outFields=*&outSR=4326&resultOffset={}&resultRecordCount={}&f=json'.format(offset, limit)\n",
    "    response_fl = requests.get(url_fl)\n",
    "    data_fl = []\n",
    "    \n",
    "    if response_fl.text.strip() != '[]':\n",
    "        \n",
    "        current_response_data = [feature['attributes'] for feature in response_fl.json()['features']]\n",
    "        \n",
    "        for row in current_response_data:\n",
    "            data_fl.append(row)\n",
    "    else:\n",
    "        break\n",
    "    \n",
    "    offset += limit\n",
    "    time.sleep(1)\n",
    "    \n",
    "with open('data/county/florida.json', 'w') as florida_file:\n",
    "    json.dump(data_fl, florida_file)"
   ]
  },
  {
   "cell_type": "code",
   "execution_count": 268,
   "metadata": {},
   "outputs": [],
   "source": [
    "for i in range(5): #while True:\n",
    "\n",
    "    url_ny = 'https://health.data.ny.gov/resource/xdss-u53e.json?$limit={}&$offset={}'.format(limit, offset)\n",
    "    response_ny = requests.get(url_ny)\n",
    "    data_ny = []\n",
    "    \n",
    "    if response_ny.text.strip() != '[]':\n",
    "        for row in response_ny.json():\n",
    "            data_ny.append(row)\n",
    "    else:\n",
    "        break\n",
    "    \n",
    "    offset += limit\n",
    "    time.sleep(5)\n",
    "    \n",
    "with open('data/county/new_york.json', 'w') as ny_file:\n",
    "    json.dump(data_ny, ny_file)"
   ]
  },
  {
   "cell_type": "code",
   "execution_count": 269,
   "metadata": {},
   "outputs": [],
   "source": [
    "for i in range(5): #while True:\n",
    "\n",
    "    url_pa = 'https://data.pa.gov/resource/j72v-r42c.json?$limit={}&$offset={}'.format(limit, offset)\n",
    "    response_pa = requests.get(url_pa)\n",
    "    data_pa = []\n",
    "    \n",
    "    if response_pa.text.strip() != '[]':\n",
    "        for row in response_pa.json():\n",
    "            data_pa.append(row)\n",
    "    else:\n",
    "        break\n",
    "    \n",
    "    offset += limit\n",
    "    time.sleep(5)\n",
    "    \n",
    "with open('data/county/pennsylvania.json', 'w') as penn_file:\n",
    "    json.dump(data_pa, penn_file)"
   ]
  },
  {
   "cell_type": "code",
   "execution_count": 270,
   "metadata": {},
   "outputs": [],
   "source": [
    "url_counties_il = 'https://en.wikipedia.org/wiki/List_of_counties_in_Illinois'\n",
    "response_url_counties_il = requests.get(url_counties_il)\n",
    "soup = BeautifulSoup(response_url_counties_il.text, 'html.parser')"
   ]
  },
  {
   "cell_type": "code",
   "execution_count": 271,
   "metadata": {},
   "outputs": [],
   "source": [
    "counties_il = []\n",
    "for county in soup.select('tbody > tr > th > a'):\n",
    "    counties_il.append(county.get_text())"
   ]
  },
  {
   "cell_type": "code",
   "execution_count": 272,
   "metadata": {},
   "outputs": [],
   "source": [
    "counties_il = [county.split(' ')[0] for county in counties_il]"
   ]
  },
  {
   "cell_type": "code",
   "execution_count": 274,
   "metadata": {},
   "outputs": [],
   "source": [
    "data_il = []\n",
    "\n",
    "for county in counties_il[:3]:\n",
    "    url_il = 'https://idph.illinois.gov/DPHPublicInformation/api/COVID/GetCountyHistorical?countyName={}'.format(county)\n",
    "    response_il = requests.get(url_il)\n",
    "    \n",
    "    for row in response_il.json()['values']:\n",
    "        data_il.append(row)\n",
    "        \n",
    "    time.sleep(5)\n",
    "        \n",
    "with open('data/county/illinois.json', 'w') as illinois_file:\n",
    "    json.dump(data_il, illinois_file)  "
   ]
  },
  {
   "cell_type": "code",
   "execution_count": 275,
   "metadata": {},
   "outputs": [],
   "source": [
    "url_oh = 'https://coronavirus.ohio.gov/static/dashboards/COVIDDeathData_CountyOfResidence.csv'\n",
    "response_oh = requests.get(url_oh)\n",
    "\n",
    "create_file(response_oh.text, 'ohio', 'csv', 'x')"
   ]
  },
  {
   "cell_type": "code",
   "execution_count": 260,
   "metadata": {},
   "outputs": [],
   "source": [
    "url_ga = 'https://opendata.arcgis.com/datasets/d817e06e4b264905a075b9332cd41962_0.geojson'\n",
    "response_ga = requests.get(url_ga)\n",
    "data_ga = []\n",
    "\n",
    "for row in response_ga.json()['features']:\n",
    "    data_ga.append(row['properties'])\n",
    "\n",
    "with open('data/county/georgia.json', 'w') as georgia_file:\n",
    "    json.dump(data_ga, georgia_file)"
   ]
  },
  {
   "cell_type": "code",
   "execution_count": 276,
   "metadata": {},
   "outputs": [],
   "source": [
    "url_usafacts_cases = 'https://static.usafacts.org/public/data/covid-19/covid_confirmed_usafacts.csv?_ga=2.249922758.1108579064.1615472677-188720245.1615472677'\n",
    "response_cases = requests.get(url_usafacts_cases)\n",
    "\n",
    "create_file(response_cases.text, 'cases', 'csv', 'x')"
   ]
  },
  {
   "cell_type": "code",
   "execution_count": 277,
   "metadata": {},
   "outputs": [],
   "source": [
    "url_usafacts_deaths = 'https://static.usafacts.org/public/data/covid-19/covid_deaths_usafacts.csv?_ga=2.247303236.1108579064.1615472677-188720245.1615472677'\n",
    "response_deaths = requests.get(url_usafacts_deaths)\n",
    "\n",
    "create_file(response_deaths.text, 'deaths', 'csv', 'x')"
   ]
  },
  {
   "cell_type": "code",
   "execution_count": 278,
   "metadata": {},
   "outputs": [],
   "source": [
    "url_usafacts_population = 'https://static.usafacts.org/public/data/covid-19/covid_county_population_usafacts.csv?_ga=2.246842820.1108579064.1615472677-188720245.1615472677'\n",
    "response_population = requests.get(url_usafacts_population)\n",
    "\n",
    "create_file(response_population.text, 'population', 'csv', 'x')"
   ]
  }
 ],
 "metadata": {
  "kernelspec": {
   "display_name": "Python 3",
   "language": "python",
   "name": "python3"
  },
  "language_info": {
   "codemirror_mode": {
    "name": "ipython",
    "version": 3
   },
   "file_extension": ".py",
   "mimetype": "text/x-python",
   "name": "python",
   "nbconvert_exporter": "python",
   "pygments_lexer": "ipython3",
   "version": "3.8.3"
  }
 },
 "nbformat": 4,
 "nbformat_minor": 4
}

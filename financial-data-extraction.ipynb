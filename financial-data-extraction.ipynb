{
 "cells": [
  {
   "cell_type": "code",
   "execution_count": 25,
   "metadata": {},
   "outputs": [],
   "source": [
    "import requests\n",
    "import os\n",
    "import json\n",
    "import time\n",
    "from bs4 import BeautifulSoup"
   ]
  },
  {
   "cell_type": "code",
   "execution_count": 2,
   "metadata": {},
   "outputs": [],
   "source": [
    "os.makedirs('data/financial/stocks')\n",
    "os.makedirs('data/financial/indicators')"
   ]
  },
  {
   "cell_type": "code",
   "execution_count": 3,
   "metadata": {},
   "outputs": [],
   "source": [
    "url_stocks = 'https://en.wikipedia.org/wiki/List_of_S%26P_500_companies'\n",
    "stocks = requests.get(url_stocks)\n",
    "soup = BeautifulSoup(stocks.text, 'html.parser')"
   ]
  },
  {
   "cell_type": "code",
   "execution_count": 4,
   "metadata": {},
   "outputs": [],
   "source": [
    "sp_stocks = BeautifulSoup(str(soup.find_all(id='constituents')), 'html.parser')\n",
    "sp_stocks = BeautifulSoup(str(sp_stocks.select('tbody > tr > td > a')), 'html.parser')"
   ]
  },
  {
   "cell_type": "code",
   "execution_count": 5,
   "metadata": {},
   "outputs": [],
   "source": [
    "symbols = []\n",
    "\n",
    "for i in range(0, len(sp_stocks.find_all(class_='external text')), 2):\n",
    "    symbols.append(sp_stocks.find_all(class_='external text')[i].get_text())"
   ]
  },
  {
   "cell_type": "code",
   "execution_count": 33,
   "metadata": {},
   "outputs": [],
   "source": [
    "for symbol in symbols[:2]:\n",
    "    os.makedirs('data/financial/stocks/{}'.format(symbol.lower()))"
   ]
  },
  {
   "cell_type": "code",
   "execution_count": 7,
   "metadata": {},
   "outputs": [],
   "source": [
    "# API Key"
   ]
  },
  {
   "cell_type": "code",
   "execution_count": 34,
   "metadata": {},
   "outputs": [],
   "source": [
    "# Time series daily\n",
    "for symbol in symbols[:2]:\n",
    "    \n",
    "    querystring_daily = {\"function\": \"TIME_SERIES_DAILY\",\n",
    "                         \"symbol\": symbol,\n",
    "                         \"outputsize\": \"full\",\n",
    "                         \"datatype\": \"json\"}\n",
    "\n",
    "    response_daily = requests.get(url_vantage, headers=headers_stocks, params=querystring_daily)\n",
    "    \n",
    "    # Create file\n",
    "    with open('data/financial/stocks/{}/daily.json'.format(symbol.lower()), 'x') as stock_file:\n",
    "        json.dump(response_daily.json()['Time Series (Daily)'], stock_file)\n",
    "    \n",
    "    time.sleep(10)"
   ]
  },
  {
   "cell_type": "code",
   "execution_count": 42,
   "metadata": {},
   "outputs": [],
   "source": [
    "# Time series weekly\n",
    "for symbol in symbols[:2]:\n",
    "    \n",
    "    querystring_weekly = {\"function\": \"TIME_SERIES_WEEKLY\",\n",
    "                          \"symbol\": symbol,\n",
    "                          \"datatype\": \"json\"}\n",
    "\n",
    "    response_weekly = requests.get(url_vantage, headers=headers_stocks, params=querystring_weekly)\n",
    "    \n",
    "    # Create file\n",
    "    with open('data/financial/stocks/{}/weekly.json'.format(symbol.lower()), 'x') as stock_file:\n",
    "        json.dump(response_weekly.json()['Weekly Time Series'], stock_file)\n",
    "    \n",
    "    time.sleep(10)"
   ]
  },
  {
   "cell_type": "code",
   "execution_count": 43,
   "metadata": {},
   "outputs": [],
   "source": [
    "# Time series monthly\n",
    "for symbol in symbols[:2]:\n",
    "\n",
    "    querystring_monthly = {\"symbol\": symbol,\n",
    "                           \"function\": \"TIME_SERIES_MONTHLY\",\n",
    "                           \"datatype\": \"json\"}\n",
    "    \n",
    "    response_monthly = requests.get(url_vantage, headers=headers_stocks, params=querystring_monthly)\n",
    "    \n",
    "    # Create file\n",
    "    with open('data/financial/stocks/{}/monthly.json'.format(symbol.lower()), 'x') as stock_file:\n",
    "        json.dump(response_monthly.json()['Monthly Time Series'], stock_file)\n",
    "    \n",
    "    time.sleep(10)"
   ]
  },
  {
   "cell_type": "code",
   "execution_count": 16,
   "metadata": {},
   "outputs": [],
   "source": [
    "# Sector\n",
    "querystring_sector = {\"function\": \"SECTOR\"}\n",
    "\n",
    "response_sector = requests.get(url_vantage, headers=headers_stocks, params=querystring_sector)\n",
    "\n",
    "file = open('data/financial/indicators/sector.json', 'x')\n",
    "file.write(response_sector.text)\n",
    "file.close()"
   ]
  },
  {
   "cell_type": "code",
   "execution_count": 14,
   "metadata": {},
   "outputs": [],
   "source": [
    "# API Key"
   ]
  },
  {
   "cell_type": "code",
   "execution_count": 17,
   "metadata": {
    "scrolled": true
   },
   "outputs": [],
   "source": [
    "# Unemployment rate\n",
    "url_unemployment = \"https://u-s-economic-indicators.p.rapidapi.com/api/v1/resources/unemployment-rate-us-sa-monthly\"\n",
    "\n",
    "response_unemployment = requests.get(url_unemployment, headers=headers_indicators)\n",
    "\n",
    "file = open('data/financial/indicators/unemployment.json', 'x')\n",
    "file.write(response_unemployment.text)\n",
    "file.close()"
   ]
  },
  {
   "cell_type": "code",
   "execution_count": 18,
   "metadata": {},
   "outputs": [],
   "source": [
    "# Consumer Sentiment Index\n",
    "url_cs_index = \"https://u-s-economic-indicators.p.rapidapi.com/api/v1/resources/UofM-consumer-sentiment-index-us-monthly\"\n",
    "\n",
    "response_cs_index = requests.get(url_cs_index, headers=headers_indicators)\n",
    "\n",
    "file = open('data/financial/indicators/consumer_sentiment.json', 'x')\n",
    "file.write(response_cs_index.text)\n",
    "file.close()"
   ]
  },
  {
   "cell_type": "code",
   "execution_count": 19,
   "metadata": {},
   "outputs": [],
   "source": [
    "# Inflation\n",
    "url_inflation = \"https://u-s-economic-indicators.p.rapidapi.com/api/v1/resources/inflation-us-monthly\"\n",
    "\n",
    "response_inflation = requests.get(url_inflation, headers=headers_indicators)\n",
    "\n",
    "file = open('data/financial/indicators/inflation.json', 'x')\n",
    "file.write(response_inflation.text)\n",
    "file.close()"
   ]
  },
  {
   "cell_type": "code",
   "execution_count": 20,
   "metadata": {},
   "outputs": [],
   "source": [
    "# Mortgage Rates\n",
    "url_mortgage = \"https://u-s-economic-indicators.p.rapidapi.com/api/v1/resources/mortgage-rate-30Y-fixed-monthly\"\n",
    "\n",
    "response_mortgage = requests.get(url_mortgage, headers=headers_indicators)\n",
    "\n",
    "file = open('data/financial/indicators/mortgage.json', 'x')\n",
    "file.write(response_mortgage.text)\n",
    "file.close()"
   ]
  }
 ],
 "metadata": {
  "kernelspec": {
   "display_name": "Python 3",
   "language": "python",
   "name": "python3"
  },
  "language_info": {
   "codemirror_mode": {
    "name": "ipython",
    "version": 3
   },
   "file_extension": ".py",
   "mimetype": "text/x-python",
   "name": "python",
   "nbconvert_exporter": "python",
   "pygments_lexer": "ipython3",
   "version": "3.8.3"
  }
 },
 "nbformat": 4,
 "nbformat_minor": 4
}
